{
 "cells": [],
 "metadata": {
  "kernelspec": {
   "display_name": "Python 3",
   "language": "python",
   "name": "python3"
  },
  "language_info": {
   "name": "python",
   "version": "3.9.10"
  },
  "orig_nbformat": 4,
  "vscode": {
   "interpreter": {
    "hash": "9cf9054f8e6d735fb2a0200f9f9323ae4405064a58d1b1d5bdf304f62a1cc0e1"
   }
  }
 },
 "nbformat": 4,
 "nbformat_minor": 2
}
