{
 "cells": [
  {
   "cell_type": "code",
   "execution_count": 55,
   "metadata": {},
   "outputs": [],
   "source": [
    "import numpy as np\n",
    "from collections import deque"
   ]
  },
  {
   "cell_type": "code",
   "execution_count": 12,
   "metadata": {},
   "outputs": [
    {
     "data": {
      "text/plain": [
       "iinfo(min=0, max=18446744073709551615, dtype=uint64)"
      ]
     },
     "execution_count": 12,
     "metadata": {},
     "output_type": "execute_result"
    }
   ],
   "source": [
    "vec1 = np.array([1,2,3])\n",
    "vec2 = np.array([4,5,6])\n",
    "vec3 = np.array([7, 8, 9])\n",
    "\n",
    "a = list()\n",
    "a.append(vec1)\n",
    "a.append(vec2)\n",
    "a.append(vec3)\n",
    "np.iinfo(np.uint64)"
   ]
  },
  {
   "cell_type": "code",
   "execution_count": 62,
   "metadata": {},
   "outputs": [
    {
     "ename": "ValueError",
     "evalue": "The truth value of an array with more than one element is ambiguous. Use a.any() or a.all()",
     "output_type": "error",
     "traceback": [
      "\u001b[1;31m---------------------------------------------------------------------------\u001b[0m",
      "\u001b[1;31mValueError\u001b[0m                                Traceback (most recent call last)",
      "Cell \u001b[1;32mIn[62], line 22\u001b[0m\n\u001b[0;32m     19\u001b[0m vec2 \u001b[39m=\u001b[39m np\u001b[39m.\u001b[39marray([\u001b[39m4\u001b[39m, \u001b[39m5\u001b[39m, \u001b[39m6\u001b[39m])\n\u001b[0;32m     20\u001b[0m vec3 \u001b[39m=\u001b[39m np\u001b[39m.\u001b[39marray([\u001b[39m7\u001b[39m, \u001b[39m8\u001b[39m, \u001b[39m9\u001b[39m])\n\u001b[1;32m---> 22\u001b[0m min_max_dist(vec1, vec2, vec3)\n",
      "Cell \u001b[1;32mIn[62], line 12\u001b[0m, in \u001b[0;36mmin_max_dist\u001b[1;34m(*vectors)\u001b[0m\n\u001b[0;32m     10\u001b[0m     b \u001b[39m=\u001b[39m np\u001b[39m.\u001b[39mlinalg\u001b[39m.\u001b[39mnorm(vec \u001b[39m-\u001b[39m a)\n\u001b[0;32m     11\u001b[0m     a \u001b[39m=\u001b[39m vec\n\u001b[1;32m---> 12\u001b[0m \u001b[39mif\u001b[39;00m a \u001b[39m>\u001b[39;49m max_norm:\n\u001b[0;32m     13\u001b[0m     max_norm \u001b[39m=\u001b[39m a\n\u001b[0;32m     14\u001b[0m \u001b[39mif\u001b[39;00m a \u001b[39m<\u001b[39m min_norm:\n",
      "\u001b[1;31mValueError\u001b[0m: The truth value of an array with more than one element is ambiguous. Use a.any() or a.all()"
     ]
    }
   ],
   "source": [
    "def min_max_dist(*vectors):\n",
    "    min_norm = 18446744073709551615\n",
    "    max_norm = 0\n",
    "    a = 0\n",
    "    list_of_vectors = list(vectors)\n",
    "    for vec in list_of_vectors:\n",
    "        if a == 0:\n",
    "            a = vec\n",
    "        else:\n",
    "            b = np.linalg.norm(vec - a)\n",
    "            a = vec\n",
    "        if a > max_norm:\n",
    "            max_norm = a\n",
    "        if a < min_norm:\n",
    "            min_norm = a \n",
    "    return min_norm, max_norm\n",
    "\n",
    "vec1 = np.array([1, 2, 3])\n",
    "vec2 = np.array([4, 5, 6])\n",
    "vec3 = np.array([7, 8, 9])\n",
    "\n",
    "min_max_dist(vec1, vec2, vec3)"
   ]
  }
 ],
 "metadata": {
  "kernelspec": {
   "display_name": "Python 3",
   "language": "python",
   "name": "python3"
  },
  "language_info": {
   "codemirror_mode": {
    "name": "ipython",
    "version": 3
   },
   "file_extension": ".py",
   "mimetype": "text/x-python",
   "name": "python",
   "nbconvert_exporter": "python",
   "pygments_lexer": "ipython3",
   "version": "3.9.10"
  },
  "orig_nbformat": 4,
  "vscode": {
   "interpreter": {
    "hash": "9cf9054f8e6d735fb2a0200f9f9323ae4405064a58d1b1d5bdf304f62a1cc0e1"
   }
  }
 },
 "nbformat": 4,
 "nbformat_minor": 2
}
