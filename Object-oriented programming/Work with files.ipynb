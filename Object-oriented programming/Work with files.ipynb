{
 "cells": [
  {
   "cell_type": "code",
   "execution_count": 52,
   "metadata": {},
   "outputs": [],
   "source": [
    "import os"
   ]
  },
  {
   "cell_type": "code",
   "execution_count": 53,
   "metadata": {},
   "outputs": [
    {
     "data": {
      "text/plain": [
       "'c:\\\\Users\\\\qwert\\\\OneDrive\\\\Документы\\\\GitHub\\\\SF_DS_Ilya\\\\Object-oriented programming'"
      ]
     },
     "execution_count": 53,
     "metadata": {},
     "output_type": "execute_result"
    }
   ],
   "source": [
    "start_path = os.getcwd()\n",
    "start_path"
   ]
  },
  {
   "cell_type": "code",
   "execution_count": 54,
   "metadata": {},
   "outputs": [
    {
     "data": {
      "text/plain": [
       "'c:\\\\Users\\\\qwert\\\\OneDrive\\\\Документы\\\\GitHub\\\\SF_DS_Ilya'"
      ]
     },
     "execution_count": 54,
     "metadata": {},
     "output_type": "execute_result"
    }
   ],
   "source": [
    "os.chdir('..')\n",
    "os.getcwd()"
   ]
  },
  {
   "cell_type": "code",
   "execution_count": 55,
   "metadata": {},
   "outputs": [
    {
     "data": {
      "text/plain": [
       "'c:\\\\Users\\\\qwert\\\\OneDrive\\\\Документы\\\\GitHub\\\\SF_DS_Ilya\\\\Object-oriented programming'"
      ]
     },
     "execution_count": 55,
     "metadata": {},
     "output_type": "execute_result"
    }
   ],
   "source": [
    "os.chdir(start_path)\n",
    "os.getcwd()"
   ]
  },
  {
   "cell_type": "code",
   "execution_count": 56,
   "metadata": {},
   "outputs": [
    {
     "name": "stdout",
     "output_type": "stream",
     "text": [
      "['Atributes & methods.ipynb', 'class.txt', 'numbers.txt', 'test.txt', 'Work with files.ipynb']\n",
      "Файл отсутствует в данной директории\n"
     ]
    }
   ],
   "source": [
    "print(os.listdir())\n",
    "\n",
    "if 'tmp.py' not in os.listdir():\n",
    "    print(\"Файл отсутствует в данной директории\")"
   ]
  },
  {
   "cell_type": "code",
   "execution_count": 57,
   "metadata": {},
   "outputs": [
    {
     "name": "stdout",
     "output_type": "stream",
     "text": [
      "c:\\Users\\qwert\\OneDrive\\Документы\\GitHub\\SF_DS_Ilya\\Object-oriented programming\n",
      "c:\\Users\\qwert\\OneDrive\\Документы\\GitHub\\SF_DS_Ilya\\Object-oriented programming\\test\n"
     ]
    }
   ],
   "source": [
    "print(start_path)\n",
    "print(os.path.join(start_path, 'test'))"
   ]
  },
  {
   "cell_type": "code",
   "execution_count": 58,
   "metadata": {},
   "outputs": [
    {
     "name": "stdout",
     "output_type": "stream",
     "text": [
      "Текущая директория: c:\\Users\\qwert\\OneDrive\\Документы\\GitHub\\SF_DS_Ilya\\Object-oriented programming\n",
      "---\n",
      "Папок нет\n",
      "---\n",
      "Список файлов: ['Atributes & methods.ipynb', 'class.txt', 'numbers.txt', 'test.txt', 'Work with files.ipynb']\n",
      "---\n",
      "Файл 1: c:\\Users\\qwert\\OneDrive\\Документы\\GitHub\\SF_DS_Ilya\\Object-oriented programming\\Atributes & methods.ipynb\n",
      "Файл 2: c:\\Users\\qwert\\OneDrive\\Документы\\GitHub\\SF_DS_Ilya\\Object-oriented programming\\class.txt\n",
      "Файл 3: c:\\Users\\qwert\\OneDrive\\Документы\\GitHub\\SF_DS_Ilya\\Object-oriented programming\\numbers.txt\n",
      "Файл 4: c:\\Users\\qwert\\OneDrive\\Документы\\GitHub\\SF_DS_Ilya\\Object-oriented programming\\test.txt\n",
      "Файл 5: c:\\Users\\qwert\\OneDrive\\Документы\\GitHub\\SF_DS_Ilya\\Object-oriented programming\\Work with files.ipynb\n",
      "===\n"
     ]
    }
   ],
   "source": [
    "def walk_desc(path=None):\n",
    "    start_path = path if path is not None else os.getcwd()\n",
    "\n",
    "    for root, dirs, files in os.walk(start_path):\n",
    "        print(\"Текущая директория:\", root)\n",
    "        print(\"---\")\n",
    "\n",
    "        if dirs:\n",
    "            print(\"Список папок:\", dirs)\n",
    "        else:\n",
    "            print(\"Папок нет\")\n",
    "        print(\"---\")\n",
    "\n",
    "        if files:\n",
    "            print(\"Список файлов:\", files)\n",
    "        else:\n",
    "            print(\"Файлов нет\")\n",
    "        print(\"---\")\n",
    "\n",
    "        if files and dirs:\n",
    "            print(\"Все пути:\")\n",
    "        for i, f in enumerate(files):\n",
    "            print(\"Файл \", i+1, ': ', os.path.join(root, f), sep='')\n",
    "        for d in dirs:\n",
    "            print(\"Папка: \", os.path.join(root, d))\n",
    "        print(\"===\")\n",
    "\n",
    "walk_desc()"
   ]
  },
  {
   "cell_type": "code",
   "execution_count": 59,
   "metadata": {},
   "outputs": [
    {
     "data": {
      "text/plain": [
       "'c:\\\\Users\\\\qwert\\\\OneDrive\\\\Документы\\\\GitHub\\\\SF_DS_Ilya\\\\Object-oriented programming\\\\test.txt'"
      ]
     },
     "execution_count": 59,
     "metadata": {},
     "output_type": "execute_result"
    }
   ],
   "source": [
    "test = os.getcwd()\n",
    "test = os.path.join(test, 'test.txt')\n",
    "test"
   ]
  },
  {
   "cell_type": "code",
   "execution_count": 60,
   "metadata": {},
   "outputs": [],
   "source": [
    "f = open('test.txt', 'w', encoding='utf8')\n",
    "\n",
    "f.write('There is a test string\\n')\n",
    "f.write('There is a new string\\n')\n",
    "\n",
    "f.close()"
   ]
  },
  {
   "cell_type": "code",
   "execution_count": 61,
   "metadata": {},
   "outputs": [],
   "source": [
    "f = open('test.txt', 'r', encoding='utf8')"
   ]
  },
  {
   "cell_type": "code",
   "execution_count": 62,
   "metadata": {},
   "outputs": [
    {
     "data": {
      "text/plain": [
       "'There i'"
      ]
     },
     "execution_count": 62,
     "metadata": {},
     "output_type": "execute_result"
    }
   ],
   "source": [
    "f.read(7)"
   ]
  },
  {
   "cell_type": "code",
   "execution_count": 63,
   "metadata": {},
   "outputs": [],
   "source": [
    "f.close()"
   ]
  },
  {
   "cell_type": "code",
   "execution_count": 64,
   "metadata": {},
   "outputs": [],
   "source": [
    "f = open('test.txt', 'a', encoding='utf8')\n",
    "\n",
    "sequence = [\"other string\\n\", \"123\\n\", \"test test\\n\"]\n",
    "f.writelines(sequence)\n",
    "\n",
    "f.close()"
   ]
  },
  {
   "cell_type": "code",
   "execution_count": 65,
   "metadata": {},
   "outputs": [
    {
     "name": "stdout",
     "output_type": "stream",
     "text": [
      "There is a test string\n",
      "\n",
      "There\n",
      " is a new string\n",
      "\n"
     ]
    }
   ],
   "source": [
    "f = open('test.txt', 'r', encoding='utf8')\n",
    "\n",
    "print(f.readline())\n",
    "print(f.read(5))\n",
    "print(f.readline())\n",
    "\n",
    "f.close()"
   ]
  },
  {
   "cell_type": "code",
   "execution_count": 66,
   "metadata": {},
   "outputs": [
    {
     "name": "stdout",
     "output_type": "stream",
     "text": [
      "There is a test string\n",
      "There is a new string\n",
      "other string\n",
      "123\n",
      "test test\n"
     ]
    }
   ],
   "source": [
    "f = open('test.txt', 'r', encoding='utf8')\n",
    "\n",
    "for line in f:\n",
    "    print(line, end='')\n",
    "    \n",
    "f.close()"
   ]
  },
  {
   "cell_type": "code",
   "execution_count": 67,
   "metadata": {},
   "outputs": [
    {
     "name": "stdout",
     "output_type": "stream",
     "text": [
      "There is a\n"
     ]
    }
   ],
   "source": [
    "with open('test.txt', 'r', encoding='utf8') as f:\n",
    "    a = f.read(10)\n",
    "    b = f.read(23)\n",
    "\n",
    "print(a)"
   ]
  },
  {
   "cell_type": "code",
   "execution_count": 68,
   "metadata": {},
   "outputs": [],
   "source": [
    "import numpy as np"
   ]
  },
  {
   "cell_type": "code",
   "execution_count": 77,
   "metadata": {},
   "outputs": [
    {
     "name": "stdout",
     "output_type": "stream",
     "text": [
      "[2, 3, 4, 5, 6, 6, 6, 7, 7, 8, 9, 10]\n"
     ]
    },
    {
     "data": {
      "text/plain": [
       "12"
      ]
     },
     "execution_count": 77,
     "metadata": {},
     "output_type": "execute_result"
    }
   ],
   "source": [
    "# 7.5\n",
    "\n",
    "listik = []\n",
    "\n",
    "with open('numbers.txt', 'r', encoding='utf8') as g:\n",
    "    for num in g:\n",
    "        num = np.int32(num)\n",
    "        listik.append(num)\n",
    "\n",
    "a = sorted(listik)\n",
    "print(a)\n",
    "np.min(listik) + np.max(listik)"
   ]
  },
  {
   "cell_type": "code",
   "execution_count": 78,
   "metadata": {},
   "outputs": [],
   "source": [
    "# 7.6\n",
    "\n",
    "c = open('class.txt', 'r', encoding='utf8')\n",
    "count = 0\n",
    "for line in c:\n",
    "    points = int(line.split()[-1])\n",
    "    if points < 3:\n",
    "        count += 1\n",
    "count\n",
    "c.close()"
   ]
  },
  {
   "cell_type": "code",
   "execution_count": 79,
   "metadata": {},
   "outputs": [],
   "source": [
    "c = open('class.txt', 'r', encoding='utf8')\n",
    "d = open('additional.txt', 'w', encoding='utf8')\n",
    "for line in c:\n",
    "    line = reversed(line)\n",
    "    d.writelines(line)\n",
    "    \n",
    "c.close()\n",
    "d.close()"
   ]
  }
 ],
 "metadata": {
  "kernelspec": {
   "display_name": "Python 3",
   "language": "python",
   "name": "python3"
  },
  "language_info": {
   "codemirror_mode": {
    "name": "ipython",
    "version": 3
   },
   "file_extension": ".py",
   "mimetype": "text/x-python",
   "name": "python",
   "nbconvert_exporter": "python",
   "pygments_lexer": "ipython3",
   "version": "3.9.10"
  },
  "orig_nbformat": 4
 },
 "nbformat": 4,
 "nbformat_minor": 2
}
