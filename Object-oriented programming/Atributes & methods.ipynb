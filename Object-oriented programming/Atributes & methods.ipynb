{
 "cells": [
  {
   "cell_type": "code",
   "execution_count": 1,
   "metadata": {},
   "outputs": [],
   "source": [
    "import numpy as np"
   ]
  },
  {
   "cell_type": "code",
   "execution_count": 2,
   "metadata": {},
   "outputs": [
    {
     "name": "stdout",
     "output_type": "stream",
     "text": [
      "[1000000, 400000]\n",
      "700000.0\n"
     ]
    }
   ],
   "source": [
    "class DepartmentReport():  \n",
    "    def add_revenue(self, amount):     \n",
    "        if not hasattr(self, 'revenues'):  \n",
    "            self.revenues = []  \n",
    "        self.revenues.append(amount)  \n",
    "              \n",
    "    def average_revenue(self):  \n",
    "        return np.mean(self.revenues)  \n",
    "\n",
    "          \n",
    "# Используем наши новые возможности  \n",
    "# Добавим две сделки и распечатаем отчёт  \n",
    "report = DepartmentReport()  \n",
    "report.add_revenue(1_000_000)  \n",
    "report.add_revenue(400_000)  \n",
    "print(report.revenues) # => Total sales: 40000  \n",
    "print(report.average_revenue())"
   ]
  },
  {
   "attachments": {},
   "cell_type": "markdown",
   "metadata": {},
   "source": [
    "Если мы вызовем total_amount до add_deal, то список сделок ещё не будет создан, и мы получим ошибку. Также проверка на наличие списка в методе add_deal не кажется оптимальным решением, потому что создать список нужно один раз, а проверять его наличие мы вынуждены на каждой сделке."
   ]
  },
  {
   "cell_type": "code",
   "execution_count": 3,
   "metadata": {},
   "outputs": [
    {
     "name": "stdout",
     "output_type": "stream",
     "text": [
      "[]\n",
      "Total sales: 130000000\n"
     ]
    }
   ],
   "source": [
    "# Решение проблемы __init__\n",
    "\n",
    "class SalesReport():\n",
    "    \n",
    "    def __init__(self) -> None:\n",
    "        self.deals = []\n",
    "\n",
    "        \n",
    "    def add_deal(self, amount):\n",
    "        self.deals.append(amount)\n",
    "    \n",
    "    def total_sum(self):\n",
    "        return sum(self.deals)\n",
    "    \n",
    "    def print_report(self):\n",
    "        print(\"Total sales:\", self.total_sum())\n",
    "\n",
    "report = SalesReport()  \n",
    "print(report.deals)  \n",
    "# => []  \n",
    "report.total_sum()  \n",
    "# => 0    \n",
    "report.add_deal(10_000_000)\n",
    "report.add_deal(120_000_000)\n",
    "report.print_report()"
   ]
  },
  {
   "cell_type": "code",
   "execution_count": 4,
   "metadata": {},
   "outputs": [
    {
     "name": "stdout",
     "output_type": "stream",
     "text": [
      "[]\n",
      "Manager: Anatoly\n",
      "Total sales: 130000000\n"
     ]
    }
   ],
   "source": [
    "class SalesReport():\n",
    "    \n",
    "    def __init__(self, manager_name) -> None:\n",
    "        self.deals = []\n",
    "        self.manager_name = manager_name\n",
    "\n",
    "        \n",
    "    def add_deal(self, amount):\n",
    "        self.deals.append(amount)\n",
    "    \n",
    "    def total_sum(self):\n",
    "        return sum(self.deals)\n",
    "    \n",
    "    def print_report(self):\n",
    "        print(\"Manager:\", self.manager_name)\n",
    "        print(\"Total sales:\", self.total_sum())\n",
    "\n",
    "report = SalesReport('Anatoly')  \n",
    "print(report.deals)  \n",
    "# => []  \n",
    "report.total_sum()  \n",
    "# => 0    \n",
    "report.add_deal(10_000_000)\n",
    "report.add_deal(120_000_000)\n",
    "report.print_report()"
   ]
  },
  {
   "cell_type": "code",
   "execution_count": 22,
   "metadata": {},
   "outputs": [
    {
     "name": "stdout",
     "output_type": "stream",
     "text": [
      "Average department revenue for Danon: 700000\n"
     ]
    }
   ],
   "source": [
    "class DepartmentReport():\n",
    "    \n",
    "    def __init__(self, company_name):\n",
    "        self.company = company_name\n",
    "        self.revenues = []\n",
    "        \n",
    "    def add_revenue(self, amount):\n",
    "        self.revenues.append(amount)\n",
    "        \n",
    "    def average_revenue(self):\n",
    "        return f'Average department revenue for {self.company}: {round(np.mean(self.revenues))}'\n",
    "        \n",
    "\n",
    "report = DepartmentReport(\"Danon\")\n",
    "report.add_revenue(1_000_000)\n",
    "report.add_revenue(400_000)\n",
    "\n",
    "print(report.average_revenue())\n",
    "# Average department revenue for Danon: 700000\n",
    "# \"Average department revenue for (company_name): (average_revenue)\""
   ]
  },
  {
   "cell_type": "code",
   "execution_count": 24,
   "metadata": {},
   "outputs": [
    {
     "name": "stdout",
     "output_type": "stream",
     "text": [
      "Employee:  Ivan Semenov\n",
      "Total sales: 390000\n",
      "Average sales: 130000.0\n",
      "Companies: ['PepsiCo', 'SkyEng']\n"
     ]
    }
   ],
   "source": [
    "class SalesReport():  \n",
    "    def __init__(self, employee_name):  \n",
    "        self.deals = []  \n",
    "        self.employee_name = employee_name  \n",
    "      \n",
    "    def add_deal(self, company, amount):   \n",
    "        self.deals.append({'company': company, 'amount': amount})  \n",
    "          \n",
    "    def total_amount(self):  \n",
    "        return sum([deal['amount'] for deal in self.deals])  \n",
    "      \n",
    "    def average_deal(self):  \n",
    "        return self.total_amount()/len(self.deals)  \n",
    "      \n",
    "    def all_companies(self):  \n",
    "        return list(set([deal['company'] for deal in self.deals]))  \n",
    "      \n",
    "    def print_report(self):  \n",
    "        print(\"Employee: \", self.employee_name)  \n",
    "        print(\"Total sales:\", self.total_amount())  \n",
    "        print(\"Average sales:\", self.average_deal())  \n",
    "        print(\"Companies:\", self.all_companies())  \n",
    "      \n",
    "      \n",
    "report = SalesReport(\"Ivan Semenov\")  \n",
    "  \n",
    "report.add_deal(\"PepsiCo\", 120_000)  \n",
    "report.add_deal(\"SkyEng\", 250_000)  \n",
    "report.add_deal(\"PepsiCo\", 20_000)  \n",
    "  \n",
    "report.print_report()  \n",
    "# => Employee:  Ivan Semenov  \n",
    "# Total sales: 390000  \n",
    "# Average sales: 130000.0  \n",
    "# Companies: ['PepsiCo', 'SkyEng'] "
   ]
  },
  {
   "cell_type": "code",
   "execution_count": 27,
   "metadata": {},
   "outputs": [
    {
     "name": "stdout",
     "output_type": "stream",
     "text": [
      "blue button on coordinates $5, $7\n"
     ]
    }
   ],
   "source": [
    "class Button():\n",
    "    def __init__(self, color):\n",
    "        self.color = color\n",
    "    \n",
    "    def place(self, x, y):\n",
    "        print(f\"{self.color} button on coordinates ${x}, ${y}\")\n",
    "        \n",
    "color = Button('blue')\n",
    "color.place(5, 7)"
   ]
  },
  {
   "cell_type": "code",
   "execution_count": 31,
   "metadata": {},
   "outputs": [
    {
     "name": "stdout",
     "output_type": "stream",
     "text": [
      "False\n",
      "True\n",
      "19700\n"
     ]
    }
   ],
   "source": [
    "class User():\n",
    "    \n",
    "    def __init__(self, email, password, balance):\n",
    "        self.email = email\n",
    "        self.password = password\n",
    "        self.balance = balance\n",
    "        \n",
    "    def login(self, email_new, password_new):\n",
    "        if (email_new == self.email) and (password_new == self.password):\n",
    "            return True\n",
    "        else:\n",
    "            return False\n",
    "        \n",
    "    def update_balance(self, amount):\n",
    "        self.balance = self.balance + amount\n",
    "        \n",
    "user = User(\"gosha@roskino.org\", \"qwerty\", 20_000)\n",
    "print(user.login(\"gosha@roskino.org\", \"qwerty123\"))\n",
    "# False\n",
    "print(user.login(\"gosha@roskino.org\", \"qwerty\"))\n",
    "# True\n",
    "user.update_balance(200)\n",
    "user.update_balance(-500)\n",
    "print(user.balance)\n",
    "# 19700\n"
   ]
  },
  {
   "cell_type": "code",
   "execution_count": 34,
   "metadata": {},
   "outputs": [
    {
     "name": "stdout",
     "output_type": "stream",
     "text": [
      "True\n"
     ]
    }
   ],
   "source": [
    "# 5.1\n",
    "\n",
    "class User():\n",
    "    \n",
    "    def __init__(self, email, password, balance):\n",
    "        self.email = email\n",
    "        self.password = password\n",
    "        self.balance = balance\n",
    "        \n",
    "    def login(self, email, password):\n",
    "        if (email == self.email) and (password == self.password):\n",
    "            return True\n",
    "        else:\n",
    "            return False\n",
    "        \n",
    "    def update_balance(self, amount):\n",
    "        self.balance = self.balance + amount\n",
    "        \n",
    "user = User(email='gosha@roskino.org', password= 'qweasd963', balance= 50000)\n",
    "print(user.login('gosha@roskino.org', 'qweasd963'))"
   ]
  }
 ],
 "metadata": {
  "kernelspec": {
   "display_name": "Python 3",
   "language": "python",
   "name": "python3"
  },
  "language_info": {
   "codemirror_mode": {
    "name": "ipython",
    "version": 3
   },
   "file_extension": ".py",
   "mimetype": "text/x-python",
   "name": "python",
   "nbconvert_exporter": "python",
   "pygments_lexer": "ipython3",
   "version": "3.9.10"
  },
  "orig_nbformat": 4
 },
 "nbformat": 4,
 "nbformat_minor": 2
}
