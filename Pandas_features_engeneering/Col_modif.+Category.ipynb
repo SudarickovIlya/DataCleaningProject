{
 "cells": [
  {
   "cell_type": "code",
   "execution_count": 1,
   "metadata": {},
   "outputs": [],
   "source": [
    "import pandas as pd\n",
    "\n",
    "melb_df = pd.read_csv('data/melb_data_ps.csv', sep = ',')"
   ]
  },
  {
   "cell_type": "code",
   "execution_count": 2,
   "metadata": {},
   "outputs": [
    {
     "data": {
      "text/plain": [
       "13378"
      ]
     },
     "execution_count": 2,
     "metadata": {},
     "output_type": "execute_result"
    }
   ],
   "source": [
    "melb_df['Address'].nunique()"
   ]
  },
  {
   "cell_type": "code",
   "execution_count": 3,
   "metadata": {},
   "outputs": [],
   "source": [
    "## Извлечём из признака адреса характеристику подтипа улицы (улица, шоссе, авеню, бульвар)\n",
    "# На вход данной функции поступает строка с адресом.\n",
    "def get_street_type(address):\n",
    "    # Создаём список географических пометок exclude_list.\n",
    "    exclude_list = ['N', 'S', 'W', 'E']\n",
    "    # Метод split() разбивает строку на слова по пробелу.\n",
    "    # В результате получаем список слов в строке и заносим его в переменную address_list.\n",
    "    address_list = address.split(' ')\n",
    "    # Обрезаем список, оставляя в нём только последний элемент,\n",
    "    # потенциальный подтип улицы, и заносим в переменную street_type. \n",
    "    street_type = address_list[-1]\n",
    "    # Делаем проверку на то, что полученный подтип является географической пометкой.\n",
    "    # Для этого проверяем его на наличие в списке exclude_list. \n",
    "    if street_type in exclude_list:\n",
    "    # Если переменная street_type является географической пометкой,\n",
    "    # переопределяем её на второй элемент с конца списка address_list.\n",
    "        return address_list[-2]\n",
    "    return street_type"
   ]
  },
  {
   "cell_type": "code",
   "execution_count": 6,
   "metadata": {},
   "outputs": [
    {
     "data": {
      "text/plain": [
       "0        St\n",
       "1        St\n",
       "2        St\n",
       "3        La\n",
       "4        St\n",
       "         ..\n",
       "13575    Cr\n",
       "13576    Dr\n",
       "13577    St\n",
       "13578    St\n",
       "13579    St\n",
       "Name: Address, Length: 13580, dtype: object"
      ]
     },
     "execution_count": 6,
     "metadata": {},
     "output_type": "execute_result"
    }
   ],
   "source": [
    "street_types = melb_df['Address'].apply(get_street_type)\n",
    "street_types"
   ]
  }
 ],
 "metadata": {
  "kernelspec": {
   "display_name": "Python 3",
   "language": "python",
   "name": "python3"
  },
  "language_info": {
   "codemirror_mode": {
    "name": "ipython",
    "version": 3
   },
   "file_extension": ".py",
   "mimetype": "text/x-python",
   "name": "python",
   "nbconvert_exporter": "python",
   "pygments_lexer": "ipython3",
   "version": "3.9.10"
  },
  "orig_nbformat": 4,
  "vscode": {
   "interpreter": {
    "hash": "9cf9054f8e6d735fb2a0200f9f9323ae4405064a58d1b1d5bdf304f62a1cc0e1"
   }
  }
 },
 "nbformat": 4,
 "nbformat_minor": 2
}
