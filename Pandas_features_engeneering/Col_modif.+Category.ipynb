{
 "cells": [
  {
   "cell_type": "code",
   "execution_count": 2,
   "metadata": {},
   "outputs": [],
   "source": [
    "import pandas as pd\n",
    "\n",
    "melb_df = pd.read_csv('data/melb_data_ps.csv', sep = ',')"
   ]
  },
  {
   "cell_type": "code",
   "execution_count": 3,
   "metadata": {},
   "outputs": [
    {
     "data": {
      "text/plain": [
       "13378"
      ]
     },
     "execution_count": 3,
     "metadata": {},
     "output_type": "execute_result"
    }
   ],
   "source": [
    "melb_df['Address'].nunique()"
   ]
  },
  {
   "cell_type": "code",
   "execution_count": 5,
   "metadata": {},
   "outputs": [],
   "source": [
    "## Извлечём из признака адреса характеристику подтипа улицы (улица, шоссе, авеню, бульвар)\n",
    "# На вход данной функции поступает строка с адресом.\n",
    "def get_street_type(address):\n",
    "    # Создаём список географических пометок exclude_list.\n",
    "    exclude_list = ['N', 'S', 'W', 'E']\n",
    "    # Метод split() разбивает строку на слова по пробелу.\n",
    "    # В результате получаем список слов в строке и заносим его в переменную address_list.\n",
    "    address_list = address.split(' ')\n",
    "    # Обрезаем список, оставляя в нём только последний элемент,\n",
    "    # потенциальный подтип улицы, и заносим в переменную street_type. \n",
    "    street_type = address_list[-1]\n",
    "    # Делаем проверку на то, что полученный подтип является географической пометкой.\n",
    "    # Для этого проверяем его на наличие в списке exclude_list. \n",
    "    if street_type in exclude_list:\n",
    "    # Если переменная street_type является географической пометкой,\n",
    "    # переопределяем её на второй элемент с конца списка address_list.\n",
    "        return address_list[-2]\n",
    "    return street_type"
   ]
  },
  {
   "cell_type": "code",
   "execution_count": 76,
   "metadata": {},
   "outputs": [
    {
     "data": {
      "text/plain": [
       "56"
      ]
     },
     "execution_count": 76,
     "metadata": {},
     "output_type": "execute_result"
    }
   ],
   "source": [
    "street_types = melb_df['Address'].apply(get_street_type)\n",
    "melb_df['StreetTypes'] = street_types\n",
    "melb_df['StreetTypes'].nunique()"
   ]
  },
  {
   "cell_type": "code",
   "execution_count": 81,
   "metadata": {},
   "outputs": [],
   "source": [
    "def eliminate_longs(address):\n",
    "    small_list = []\n",
    "    for a in melb_df['StreetTypes'].unique():\n",
    "        if len(a) <= 3:\n",
    "            small_list.append(a)\n",
    "    for b in small_list:\n",
    "        if set(b).issubset(set(address)):\n",
    "            return b\n",
    "    return address\n",
    "\n",
    "melb_df['StreetTypes'] = melb_df['StreetTypes'].apply(eliminate_longs)"
   ]
  },
  {
   "cell_type": "code",
   "execution_count": 85,
   "metadata": {},
   "outputs": [
    {
     "data": {
      "text/plain": [
       "36"
      ]
     },
     "metadata": {},
     "output_type": "display_data"
    },
    {
     "data": {
      "text/plain": [
       "St          8020\n",
       "Rd          2827\n",
       "Ct           648\n",
       "Dr           447\n",
       "Av           362\n",
       "Gr           323\n",
       "Pde          226\n",
       "Pl           169\n",
       "Cr           156\n",
       "Cl           100\n",
       "La            67\n",
       "Bvd           66\n",
       "Tce           48\n",
       "Wy            40\n",
       "Hwy           25\n",
       "Sq            11\n",
       "Esp            8\n",
       "Cir            7\n",
       "Gdns           4\n",
       "Fairway        4\n",
       "Mews           4\n",
       "Righi          3\n",
       "Victoria       2\n",
       "Glade          1\n",
       "Nook           1\n",
       "Qy             1\n",
       "Cove           1\n",
       "Res            1\n",
       "Loop           1\n",
       "East           1\n",
       "Dell           1\n",
       "Eyrie          1\n",
       "Athol          1\n",
       "Hts            1\n",
       "Outlook        1\n",
       "Woodland       1\n",
       "Name: StreetTypes, dtype: int64"
      ]
     },
     "metadata": {},
     "output_type": "display_data"
    }
   ],
   "source": [
    "display(melb_df['StreetTypes'].nunique())\n",
    "display(melb_df['StreetTypes'].value_counts())"
   ]
  },
  {
   "cell_type": "code",
   "execution_count": 86,
   "metadata": {},
   "outputs": [
    {
     "data": {
      "text/plain": [
       "Index(['St', 'Rd', 'Ct', 'Dr', 'Av', 'Gr', 'Pde', 'Pl', 'Cr', 'Cl'], dtype='object')"
      ]
     },
     "metadata": {},
     "output_type": "display_data"
    }
   ],
   "source": [
    "popular_stypes = street_types.value_counts().nlargest(10).index\n",
    "display(popular_stypes)"
   ]
  },
  {
   "cell_type": "code",
   "execution_count": 87,
   "metadata": {},
   "outputs": [
    {
     "data": {
      "text/plain": [
       "11"
      ]
     },
     "execution_count": 87,
     "metadata": {},
     "output_type": "execute_result"
    }
   ],
   "source": [
    "melb_df['StreetType'] = street_types.apply(lambda x: x if x in popular_stypes else 'other')\n",
    "melb_df['StreetType'].nunique()"
   ]
  },
  {
   "cell_type": "code",
   "execution_count": 88,
   "metadata": {},
   "outputs": [],
   "source": [
    "melb_df.drop('Address', axis=1, inplace = True)"
   ]
  }
 ],
 "metadata": {
  "kernelspec": {
   "display_name": "Python 3",
   "language": "python",
   "name": "python3"
  },
  "language_info": {
   "codemirror_mode": {
    "name": "ipython",
    "version": 3
   },
   "file_extension": ".py",
   "mimetype": "text/x-python",
   "name": "python",
   "nbconvert_exporter": "python",
   "pygments_lexer": "ipython3",
   "version": "3.9.10 (tags/v3.9.10:f2f3f53, Jan 17 2022, 15:14:21) [MSC v.1929 64 bit (AMD64)]"
  },
  "orig_nbformat": 4,
  "vscode": {
   "interpreter": {
    "hash": "9cf9054f8e6d735fb2a0200f9f9323ae4405064a58d1b1d5bdf304f62a1cc0e1"
   }
  }
 },
 "nbformat": 4,
 "nbformat_minor": 2
}
