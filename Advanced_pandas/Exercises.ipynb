{
 "cells": [
  {
   "cell_type": "code",
   "execution_count": 1,
   "metadata": {},
   "outputs": [
    {
     "name": "stdout",
     "output_type": "stream",
     "text": [
      "<class 'pandas.core.frame.DataFrame'>\n",
      "RangeIndex: 13580 entries, 0 to 13579\n",
      "Data columns (total 26 columns):\n",
      " #   Column           Non-Null Count  Dtype  \n",
      "---  ------           --------------  -----  \n",
      " 0   Suburb           13580 non-null  object \n",
      " 1   Rooms            13580 non-null  int64  \n",
      " 2   Type             13580 non-null  object \n",
      " 3   Price            13580 non-null  float64\n",
      " 4   Method           13580 non-null  object \n",
      " 5   SellerG          13580 non-null  object \n",
      " 6   Date             13580 non-null  object \n",
      " 7   Distance         13580 non-null  float64\n",
      " 8   Postcode         13580 non-null  int64  \n",
      " 9   Bedroom          13580 non-null  int64  \n",
      " 10  Bathroom         13580 non-null  int64  \n",
      " 11  Car              13580 non-null  int64  \n",
      " 12  Landsize         13580 non-null  float64\n",
      " 13  BuildingArea     13580 non-null  float64\n",
      " 14  CouncilArea      12211 non-null  object \n",
      " 15  Lattitude        13580 non-null  float64\n",
      " 16  Longtitude       13580 non-null  float64\n",
      " 17  Regionname       13580 non-null  object \n",
      " 18  Propertycount    13580 non-null  int64  \n",
      " 19  MeanRoomsSquare  13580 non-null  float64\n",
      " 20  AreaRatio        13580 non-null  float64\n",
      " 21  MonthSale        13580 non-null  int64  \n",
      " 22  AgeBuilding      13580 non-null  int64  \n",
      " 23  WeekdaySale      13580 non-null  int64  \n",
      " 24  StreetType       13580 non-null  object \n",
      " 25  Weekend          13580 non-null  int64  \n",
      "dtypes: float64(8), int64(10), object(8)\n",
      "memory usage: 2.7+ MB\n"
     ]
    }
   ],
   "source": [
    "import pandas as pd\n",
    "\n",
    "melb_df = pd.read_csv('data/melb_data_fe.csv', sep = ',', decimal = '.')\n",
    "melb_df.info()"
   ]
  },
  {
   "cell_type": "code",
   "execution_count": 2,
   "metadata": {},
   "outputs": [
    {
     "data": {
      "text/plain": [
       "126.0"
      ]
     },
     "execution_count": 2,
     "metadata": {},
     "output_type": "execute_result"
    }
   ],
   "source": [
    "# 2.2\n",
    "\n",
    "melb_df.sort_values(by = 'AreaRatio', ascending = False, ignore_index = True).loc[1558, 'BuildingArea']"
   ]
  },
  {
   "cell_type": "code",
   "execution_count": 3,
   "metadata": {},
   "outputs": [
    {
     "data": {
      "text/plain": [
       "1300000"
      ]
     },
     "execution_count": 3,
     "metadata": {},
     "output_type": "execute_result"
    }
   ],
   "source": [
    "# 2.3\n",
    "\n",
    "round(melb_df[(melb_df['Rooms'] > 2) & (melb_df['Type'] == 'townhouse')].sort_values(\n",
    "    by = ['Rooms', 'MeanRoomsSquare'], ascending = [True, False], ignore_index = True\n",
    "    ).loc[18, 'Price'])"
   ]
  },
  {
   "cell_type": "code",
   "execution_count": 17,
   "metadata": {},
   "outputs": [
    {
     "data": {
      "text/plain": [
       "Rooms\n",
       "7     1.920700e+06\n",
       "5     1.870260e+06\n",
       "6     1.849366e+06\n",
       "8     1.602750e+06\n",
       "4     1.445282e+06\n",
       "3     1.076081e+06\n",
       "10    9.000000e+05\n",
       "2     7.750812e+05\n",
       "1     4.338245e+05\n",
       "Name: Price, dtype: float64"
      ]
     },
     "execution_count": 17,
     "metadata": {},
     "output_type": "execute_result"
    }
   ],
   "source": [
    "# 3.1\n",
    "\n",
    "melb_df.groupby('Rooms')['Price'].mean().sort_values(ascending = False)"
   ]
  },
  {
   "cell_type": "code",
   "execution_count": 21,
   "metadata": {},
   "outputs": [
    {
     "data": {
      "text/plain": [
       "0        2016-03-12\n",
       "1        2016-04-02\n",
       "2        2017-04-03\n",
       "3        2017-04-03\n",
       "4        2016-04-06\n",
       "            ...    \n",
       "13575    2017-08-26\n",
       "13576    2017-08-26\n",
       "13577    2017-08-26\n",
       "13578    2017-08-26\n",
       "13579    2017-08-26\n",
       "Name: Date, Length: 13580, dtype: object"
      ]
     },
     "execution_count": 21,
     "metadata": {},
     "output_type": "execute_result"
    }
   ],
   "source": [
    "# 3.2\n",
    "\n",
    "melb_df.groupby('Regionname')['Lattitude'].std().sort_values(ascending = True)\n",
    "melb_df['Date']"
   ]
  },
  {
   "cell_type": "code",
   "execution_count": 72,
   "metadata": {},
   "outputs": [
    {
     "data": {
      "text/plain": [
       "SellerG\n",
       "LITTLE             5\n",
       "Cayzer             8\n",
       "Burnham            9\n",
       "Moonee            12\n",
       "Alexkarbon        13\n",
       "Nick              13\n",
       "Thomson           15\n",
       "McDonald          18\n",
       "Collins           18\n",
       "Rendina           19\n",
       "Bells             19\n",
       "Chisholm          22\n",
       "Buckingham        28\n",
       "Philip            30\n",
       "Purplebricks      31\n",
       "Eview             32\n",
       "Williams          32\n",
       "C21               34\n",
       "Kay               35\n",
       "Douglas           39\n",
       "O'Brien           39\n",
       "Village           39\n",
       "RW                45\n",
       "Love              45\n",
       "Gary              46\n",
       "RT                47\n",
       "HAR               49\n",
       "Miles             57\n",
       "Raine             58\n",
       "Hodges            59\n",
       "Stockdale         65\n",
       "Sweeney           70\n",
       "Greg              87\n",
       "Jas               89\n",
       "Noel              89\n",
       "YPA              102\n",
       "Brad             102\n",
       "Harcourts        103\n",
       "McGrath          105\n",
       "Woodards         107\n",
       "Fletchers        113\n",
       "Biggin           135\n",
       "Marshall         199\n",
       "Buxton           246\n",
       "Ray              373\n",
       "Barry            415\n",
       "Jellis           437\n",
       "hockingstuart    440\n",
       "other            510\n",
       "Nelson           511\n",
       "Name: Price, dtype: int64"
      ]
     },
     "execution_count": 72,
     "metadata": {},
     "output_type": "execute_result"
    }
   ],
   "source": [
    "melb_df['Date'] = pd.to_datetime(melb_df['Date'])\n",
    "melb_df['Month'] = melb_df['Date'].dt.month\n",
    "melb_df['Year'] = melb_df['Date'].dt.year\n",
    "melb_df[(melb_df['Month'] <= 10) & (melb_df['Month'] >= 4) & (melb_df['Year'] == 2017)].groupby(by = 'SellerG')['Price'].count().sort_values(ascending=True)\n"
   ]
  }
 ],
 "metadata": {
  "kernelspec": {
   "display_name": "Python 3",
   "language": "python",
   "name": "python3"
  },
  "language_info": {
   "codemirror_mode": {
    "name": "ipython",
    "version": 3
   },
   "file_extension": ".py",
   "mimetype": "text/x-python",
   "name": "python",
   "nbconvert_exporter": "python",
   "pygments_lexer": "ipython3",
   "version": "3.9.10"
  },
  "orig_nbformat": 4,
  "vscode": {
   "interpreter": {
    "hash": "9cf9054f8e6d735fb2a0200f9f9323ae4405064a58d1b1d5bdf304f62a1cc0e1"
   }
  }
 },
 "nbformat": 4,
 "nbformat_minor": 2
}
