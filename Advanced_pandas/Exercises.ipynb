{
 "cells": [
  {
   "cell_type": "code",
   "execution_count": 1,
   "metadata": {},
   "outputs": [
    {
     "name": "stdout",
     "output_type": "stream",
     "text": [
      "<class 'pandas.core.frame.DataFrame'>\n",
      "RangeIndex: 13580 entries, 0 to 13579\n",
      "Data columns (total 26 columns):\n",
      " #   Column           Non-Null Count  Dtype  \n",
      "---  ------           --------------  -----  \n",
      " 0   Suburb           13580 non-null  object \n",
      " 1   Rooms            13580 non-null  int64  \n",
      " 2   Type             13580 non-null  object \n",
      " 3   Price            13580 non-null  float64\n",
      " 4   Method           13580 non-null  object \n",
      " 5   SellerG          13580 non-null  object \n",
      " 6   Date             13580 non-null  object \n",
      " 7   Distance         13580 non-null  float64\n",
      " 8   Postcode         13580 non-null  int64  \n",
      " 9   Bedroom          13580 non-null  int64  \n",
      " 10  Bathroom         13580 non-null  int64  \n",
      " 11  Car              13580 non-null  int64  \n",
      " 12  Landsize         13580 non-null  float64\n",
      " 13  BuildingArea     13580 non-null  float64\n",
      " 14  CouncilArea      12211 non-null  object \n",
      " 15  Lattitude        13580 non-null  float64\n",
      " 16  Longtitude       13580 non-null  float64\n",
      " 17  Regionname       13580 non-null  object \n",
      " 18  Propertycount    13580 non-null  int64  \n",
      " 19  MeanRoomsSquare  13580 non-null  float64\n",
      " 20  AreaRatio        13580 non-null  float64\n",
      " 21  MonthSale        13580 non-null  int64  \n",
      " 22  AgeBuilding      13580 non-null  int64  \n",
      " 23  WeekdaySale      13580 non-null  int64  \n",
      " 24  StreetType       13580 non-null  object \n",
      " 25  Weekend          13580 non-null  int64  \n",
      "dtypes: float64(8), int64(10), object(8)\n",
      "memory usage: 2.7+ MB\n"
     ]
    }
   ],
   "source": [
    "import pandas as pd\n",
    "\n",
    "melb_df = pd.read_csv('data/melb_data_fe.csv', sep = ',', decimal = '.')\n",
    "melb_df.info()"
   ]
  },
  {
   "cell_type": "code",
   "execution_count": 2,
   "metadata": {},
   "outputs": [
    {
     "data": {
      "text/plain": [
       "126.0"
      ]
     },
     "execution_count": 2,
     "metadata": {},
     "output_type": "execute_result"
    }
   ],
   "source": [
    "# 2.2\n",
    "\n",
    "melb_df.sort_values(by = 'AreaRatio', ascending = False, ignore_index = True).loc[1558, 'BuildingArea']"
   ]
  },
  {
   "cell_type": "code",
   "execution_count": 3,
   "metadata": {},
   "outputs": [
    {
     "data": {
      "text/plain": [
       "1300000"
      ]
     },
     "execution_count": 3,
     "metadata": {},
     "output_type": "execute_result"
    }
   ],
   "source": [
    "# 2.3\n",
    "\n",
    "round(melb_df[(melb_df['Rooms'] > 2) & (melb_df['Type'] == 'townhouse')].sort_values(\n",
    "    by = ['Rooms', 'MeanRoomsSquare'], ascending = [True, False], ignore_index = True\n",
    "    ).loc[18, 'Price'])"
   ]
  },
  {
   "cell_type": "code",
   "execution_count": 4,
   "metadata": {},
   "outputs": [
    {
     "data": {
      "text/plain": [
       "Rooms\n",
       "7     1.920700e+06\n",
       "5     1.870260e+06\n",
       "6     1.849366e+06\n",
       "8     1.602750e+06\n",
       "4     1.445282e+06\n",
       "3     1.076081e+06\n",
       "10    9.000000e+05\n",
       "2     7.750812e+05\n",
       "1     4.338245e+05\n",
       "Name: Price, dtype: float64"
      ]
     },
     "execution_count": 4,
     "metadata": {},
     "output_type": "execute_result"
    }
   ],
   "source": [
    "# 3.1\n",
    "\n",
    "melb_df.groupby('Rooms')['Price'].mean().sort_values(ascending = False)"
   ]
  },
  {
   "cell_type": "code",
   "execution_count": 5,
   "metadata": {},
   "outputs": [
    {
     "data": {
      "text/plain": [
       "0        2016-03-12\n",
       "1        2016-04-02\n",
       "2        2017-04-03\n",
       "3        2017-04-03\n",
       "4        2016-04-06\n",
       "            ...    \n",
       "13575    2017-08-26\n",
       "13576    2017-08-26\n",
       "13577    2017-08-26\n",
       "13578    2017-08-26\n",
       "13579    2017-08-26\n",
       "Name: Date, Length: 13580, dtype: object"
      ]
     },
     "execution_count": 5,
     "metadata": {},
     "output_type": "execute_result"
    }
   ],
   "source": [
    "# 3.2\n",
    "\n",
    "melb_df.groupby('Regionname')['Lattitude'].std().sort_values(ascending = True)\n",
    "melb_df['Date']"
   ]
  },
  {
   "cell_type": "code",
   "execution_count": 6,
   "metadata": {},
   "outputs": [
    {
     "data": {
      "text/plain": [
       "SellerG\n",
       "LITTLE             5\n",
       "Cayzer             8\n",
       "Burnham            9\n",
       "Moonee            12\n",
       "Alexkarbon        13\n",
       "Nick              13\n",
       "Thomson           15\n",
       "McDonald          18\n",
       "Collins           18\n",
       "Rendina           19\n",
       "Bells             19\n",
       "Chisholm          22\n",
       "Buckingham        28\n",
       "Philip            30\n",
       "Purplebricks      31\n",
       "Eview             32\n",
       "Williams          32\n",
       "C21               34\n",
       "Kay               35\n",
       "Douglas           39\n",
       "O'Brien           39\n",
       "Village           39\n",
       "RW                45\n",
       "Love              45\n",
       "Gary              46\n",
       "RT                47\n",
       "HAR               49\n",
       "Miles             57\n",
       "Raine             58\n",
       "Hodges            59\n",
       "Stockdale         65\n",
       "Sweeney           70\n",
       "Greg              87\n",
       "Jas               89\n",
       "Noel              89\n",
       "YPA              102\n",
       "Brad             102\n",
       "Harcourts        103\n",
       "McGrath          105\n",
       "Woodards         107\n",
       "Fletchers        113\n",
       "Biggin           135\n",
       "Marshall         199\n",
       "Buxton           246\n",
       "Ray              373\n",
       "Barry            415\n",
       "Jellis           437\n",
       "hockingstuart    440\n",
       "other            510\n",
       "Nelson           511\n",
       "Name: Price, dtype: int64"
      ]
     },
     "execution_count": 6,
     "metadata": {},
     "output_type": "execute_result"
    }
   ],
   "source": [
    "melb_df['Date'] = pd.to_datetime(melb_df['Date'])\n",
    "melb_df['Month'] = melb_df['Date'].dt.month\n",
    "melb_df['Year'] = melb_df['Date'].dt.year\n",
    "melb_df[(melb_df['Month'] <= 10) & (melb_df['Month'] >= 4) & (melb_df['Year'] == 2017)].groupby(by = 'SellerG')['Price'].count().sort_values(ascending=True)\n"
   ]
  },
  {
   "cell_type": "code",
   "execution_count": 7,
   "metadata": {},
   "outputs": [
    {
     "data": {
      "text/html": [
       "<div>\n",
       "<style scoped>\n",
       "    .dataframe tbody tr th:only-of-type {\n",
       "        vertical-align: middle;\n",
       "    }\n",
       "\n",
       "    .dataframe tbody tr th {\n",
       "        vertical-align: top;\n",
       "    }\n",
       "\n",
       "    .dataframe thead th {\n",
       "        text-align: right;\n",
       "    }\n",
       "</style>\n",
       "<table border=\"1\" class=\"dataframe\">\n",
       "  <thead>\n",
       "    <tr style=\"text-align: right;\">\n",
       "      <th>Type</th>\n",
       "      <th>house</th>\n",
       "      <th>townhouse</th>\n",
       "      <th>unit</th>\n",
       "    </tr>\n",
       "    <tr>\n",
       "      <th>Rooms</th>\n",
       "      <th></th>\n",
       "      <th></th>\n",
       "      <th></th>\n",
       "    </tr>\n",
       "  </thead>\n",
       "  <tbody>\n",
       "    <tr>\n",
       "      <th>1</th>\n",
       "      <td>126.0</td>\n",
       "      <td>88.0</td>\n",
       "      <td>69.5</td>\n",
       "    </tr>\n",
       "    <tr>\n",
       "      <th>2</th>\n",
       "      <td>126.0</td>\n",
       "      <td>114.0</td>\n",
       "      <td>110.0</td>\n",
       "    </tr>\n",
       "    <tr>\n",
       "      <th>3</th>\n",
       "      <td>126.0</td>\n",
       "      <td>126.0</td>\n",
       "      <td>126.0</td>\n",
       "    </tr>\n",
       "    <tr>\n",
       "      <th>4</th>\n",
       "      <td>141.0</td>\n",
       "      <td>159.5</td>\n",
       "      <td>126.0</td>\n",
       "    </tr>\n",
       "    <tr>\n",
       "      <th>5</th>\n",
       "      <td>177.0</td>\n",
       "      <td>152.0</td>\n",
       "      <td>NaN</td>\n",
       "    </tr>\n",
       "    <tr>\n",
       "      <th>6</th>\n",
       "      <td>126.0</td>\n",
       "      <td>NaN</td>\n",
       "      <td>171.0</td>\n",
       "    </tr>\n",
       "    <tr>\n",
       "      <th>7</th>\n",
       "      <td>216.5</td>\n",
       "      <td>NaN</td>\n",
       "      <td>NaN</td>\n",
       "    </tr>\n",
       "    <tr>\n",
       "      <th>8</th>\n",
       "      <td>126.0</td>\n",
       "      <td>NaN</td>\n",
       "      <td>126.0</td>\n",
       "    </tr>\n",
       "    <tr>\n",
       "      <th>10</th>\n",
       "      <td>126.0</td>\n",
       "      <td>NaN</td>\n",
       "      <td>NaN</td>\n",
       "    </tr>\n",
       "  </tbody>\n",
       "</table>\n",
       "</div>"
      ],
      "text/plain": [
       "Type   house  townhouse   unit\n",
       "Rooms                         \n",
       "1      126.0       88.0   69.5\n",
       "2      126.0      114.0  110.0\n",
       "3      126.0      126.0  126.0\n",
       "4      141.0      159.5  126.0\n",
       "5      177.0      152.0    NaN\n",
       "6      126.0        NaN  171.0\n",
       "7      216.5        NaN    NaN\n",
       "8      126.0        NaN  126.0\n",
       "10     126.0        NaN    NaN"
      ]
     },
     "execution_count": 7,
     "metadata": {},
     "output_type": "execute_result"
    }
   ],
   "source": [
    "# 4.2\n",
    "\n",
    "melb_df.pivot_table(values = 'BuildingArea', index = 'Rooms', columns = 'Type', aggfunc = 'median')"
   ]
  },
  {
   "cell_type": "code",
   "execution_count": 13,
   "metadata": {},
   "outputs": [
    {
     "data": {
      "text/plain": [
       "SellerG\n",
       "Nick             900000\n",
       "Marshall         715000\n",
       "Cayzer           707500\n",
       "Kay              695000\n",
       "Noel             693250\n",
       "Buxton           670000\n",
       "Fletchers        653000\n",
       "Chisholm         640000\n",
       "Philip           636000\n",
       "RT               630000\n",
       "C21              625500\n",
       "RW               625500\n",
       "Moonee           622000\n",
       "O'Brien          618500\n",
       "Hodges           605500\n",
       "Eview            602000\n",
       "Woodards         600000\n",
       "Collins          592000\n",
       "Jellis           591750\n",
       "Purplebricks     582500\n",
       "Williams         577000\n",
       "hockingstuart    566000\n",
       "Alexkarbon       560000\n",
       "Miles            555000\n",
       "Buckingham       553000\n",
       "Gary             550000\n",
       "Biggin           548000\n",
       "Greg             547500\n",
       "McGrath          542500\n",
       "other            535000\n",
       "Nelson           530000\n",
       "HAR              518000\n",
       "McDonald         502500\n",
       "Barry            502000\n",
       "Harcourts        500000\n",
       "Ray              497500\n",
       "Thomson          495000\n",
       "Douglas          494500\n",
       "Brad             465000\n",
       "Rendina          459000\n",
       "Bells            457500\n",
       "Jas              455000\n",
       "Raine            447500\n",
       "LITTLE           447000\n",
       "YPA              443500\n",
       "Love             440000\n",
       "Village          420000\n",
       "Stockdale        410000\n",
       "Sweeney          381000\n",
       "Burnham          305000\n",
       "Name: unit, dtype: int64"
      ]
     },
     "execution_count": 13,
     "metadata": {},
     "output_type": "execute_result"
    }
   ],
   "source": [
    "# 4.3\n",
    "\n",
    "for_4_3 = melb_df.pivot_table(values = 'Price', index = 'SellerG', columns = 'Type', aggfunc = 'median', fill_value = 0)\n",
    "for_4_3['unit'].sort_values(ascending=False)"
   ]
  }
 ],
 "metadata": {
  "kernelspec": {
   "display_name": "Python 3",
   "language": "python",
   "name": "python3"
  },
  "language_info": {
   "codemirror_mode": {
    "name": "ipython",
    "version": 3
   },
   "file_extension": ".py",
   "mimetype": "text/x-python",
   "name": "python",
   "nbconvert_exporter": "python",
   "pygments_lexer": "ipython3",
   "version": "3.9.10"
  },
  "orig_nbformat": 4,
  "vscode": {
   "interpreter": {
    "hash": "9cf9054f8e6d735fb2a0200f9f9323ae4405064a58d1b1d5bdf304f62a1cc0e1"
   }
  }
 },
 "nbformat": 4,
 "nbformat_minor": 2
}
